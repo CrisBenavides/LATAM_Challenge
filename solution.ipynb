{
 "cells": [
  {
   "attachments": {},
   "cell_type": "markdown",
   "metadata": {},
   "source": [
    "# Challenge:\n",
    "The problem consists in predicting the probability of delay of the flights that land or take off from the airport of Santiago de Chile\n",
    "(SCL). For that you will have a dataset using public and real data where each row corresponds to a flight that landed or took off\n",
    "from SCL during 2017."
   ]
  },
  {
   "attachments": {},
   "cell_type": "markdown",
   "metadata": {},
   "source": [
    "\n",
    "# Importar librerias y cargar el dataset"
   ]
  },
  {
   "cell_type": "code",
   "execution_count": 11,
   "metadata": {},
   "outputs": [],
   "source": [
    "import pandas as pd\n",
    "import numpy as np\n",
    "import seaborn as sns\n",
    "import matplotlib.pyplot as plt"
   ]
  },
  {
   "cell_type": "code",
   "execution_count": 2,
   "metadata": {},
   "outputs": [
    {
     "data": {
      "text/html": [
       "<div>\n",
       "<style scoped>\n",
       "    .dataframe tbody tr th:only-of-type {\n",
       "        vertical-align: middle;\n",
       "    }\n",
       "\n",
       "    .dataframe tbody tr th {\n",
       "        vertical-align: top;\n",
       "    }\n",
       "\n",
       "    .dataframe thead th {\n",
       "        text-align: right;\n",
       "    }\n",
       "</style>\n",
       "<table border=\"1\" class=\"dataframe\">\n",
       "  <thead>\n",
       "    <tr style=\"text-align: right;\">\n",
       "      <th></th>\n",
       "      <th>Fecha-I</th>\n",
       "      <th>Vlo-I</th>\n",
       "      <th>Ori-I</th>\n",
       "      <th>Des-I</th>\n",
       "      <th>Emp-I</th>\n",
       "      <th>Fecha-O</th>\n",
       "      <th>Vlo-O</th>\n",
       "      <th>Ori-O</th>\n",
       "      <th>Des-O</th>\n",
       "      <th>Emp-O</th>\n",
       "      <th>DIA</th>\n",
       "      <th>MES</th>\n",
       "      <th>AÑO</th>\n",
       "      <th>DIANOM</th>\n",
       "      <th>TIPOVUELO</th>\n",
       "      <th>OPERA</th>\n",
       "      <th>SIGLAORI</th>\n",
       "      <th>SIGLADES</th>\n",
       "    </tr>\n",
       "  </thead>\n",
       "  <tbody>\n",
       "    <tr>\n",
       "      <th>0</th>\n",
       "      <td>2017-01-01 23:30:00</td>\n",
       "      <td>226</td>\n",
       "      <td>SCEL</td>\n",
       "      <td>KMIA</td>\n",
       "      <td>AAL</td>\n",
       "      <td>2017-01-01 23:33:00</td>\n",
       "      <td>226</td>\n",
       "      <td>SCEL</td>\n",
       "      <td>KMIA</td>\n",
       "      <td>AAL</td>\n",
       "      <td>1</td>\n",
       "      <td>1</td>\n",
       "      <td>2017</td>\n",
       "      <td>Domingo</td>\n",
       "      <td>I</td>\n",
       "      <td>American Airlines</td>\n",
       "      <td>Santiago</td>\n",
       "      <td>Miami</td>\n",
       "    </tr>\n",
       "    <tr>\n",
       "      <th>1</th>\n",
       "      <td>2017-01-02 23:30:00</td>\n",
       "      <td>226</td>\n",
       "      <td>SCEL</td>\n",
       "      <td>KMIA</td>\n",
       "      <td>AAL</td>\n",
       "      <td>2017-01-02 23:39:00</td>\n",
       "      <td>226</td>\n",
       "      <td>SCEL</td>\n",
       "      <td>KMIA</td>\n",
       "      <td>AAL</td>\n",
       "      <td>2</td>\n",
       "      <td>1</td>\n",
       "      <td>2017</td>\n",
       "      <td>Lunes</td>\n",
       "      <td>I</td>\n",
       "      <td>American Airlines</td>\n",
       "      <td>Santiago</td>\n",
       "      <td>Miami</td>\n",
       "    </tr>\n",
       "    <tr>\n",
       "      <th>2</th>\n",
       "      <td>2017-01-03 23:30:00</td>\n",
       "      <td>226</td>\n",
       "      <td>SCEL</td>\n",
       "      <td>KMIA</td>\n",
       "      <td>AAL</td>\n",
       "      <td>2017-01-03 23:39:00</td>\n",
       "      <td>226</td>\n",
       "      <td>SCEL</td>\n",
       "      <td>KMIA</td>\n",
       "      <td>AAL</td>\n",
       "      <td>3</td>\n",
       "      <td>1</td>\n",
       "      <td>2017</td>\n",
       "      <td>Martes</td>\n",
       "      <td>I</td>\n",
       "      <td>American Airlines</td>\n",
       "      <td>Santiago</td>\n",
       "      <td>Miami</td>\n",
       "    </tr>\n",
       "    <tr>\n",
       "      <th>3</th>\n",
       "      <td>2017-01-04 23:30:00</td>\n",
       "      <td>226</td>\n",
       "      <td>SCEL</td>\n",
       "      <td>KMIA</td>\n",
       "      <td>AAL</td>\n",
       "      <td>2017-01-04 23:33:00</td>\n",
       "      <td>226</td>\n",
       "      <td>SCEL</td>\n",
       "      <td>KMIA</td>\n",
       "      <td>AAL</td>\n",
       "      <td>4</td>\n",
       "      <td>1</td>\n",
       "      <td>2017</td>\n",
       "      <td>Miercoles</td>\n",
       "      <td>I</td>\n",
       "      <td>American Airlines</td>\n",
       "      <td>Santiago</td>\n",
       "      <td>Miami</td>\n",
       "    </tr>\n",
       "    <tr>\n",
       "      <th>4</th>\n",
       "      <td>2017-01-05 23:30:00</td>\n",
       "      <td>226</td>\n",
       "      <td>SCEL</td>\n",
       "      <td>KMIA</td>\n",
       "      <td>AAL</td>\n",
       "      <td>2017-01-05 23:28:00</td>\n",
       "      <td>226</td>\n",
       "      <td>SCEL</td>\n",
       "      <td>KMIA</td>\n",
       "      <td>AAL</td>\n",
       "      <td>5</td>\n",
       "      <td>1</td>\n",
       "      <td>2017</td>\n",
       "      <td>Jueves</td>\n",
       "      <td>I</td>\n",
       "      <td>American Airlines</td>\n",
       "      <td>Santiago</td>\n",
       "      <td>Miami</td>\n",
       "    </tr>\n",
       "  </tbody>\n",
       "</table>\n",
       "</div>"
      ],
      "text/plain": [
       "              Fecha-I Vlo-I Ori-I Des-I Emp-I             Fecha-O Vlo-O Ori-O  \\\n",
       "0 2017-01-01 23:30:00   226  SCEL  KMIA   AAL 2017-01-01 23:33:00   226  SCEL   \n",
       "1 2017-01-02 23:30:00   226  SCEL  KMIA   AAL 2017-01-02 23:39:00   226  SCEL   \n",
       "2 2017-01-03 23:30:00   226  SCEL  KMIA   AAL 2017-01-03 23:39:00   226  SCEL   \n",
       "3 2017-01-04 23:30:00   226  SCEL  KMIA   AAL 2017-01-04 23:33:00   226  SCEL   \n",
       "4 2017-01-05 23:30:00   226  SCEL  KMIA   AAL 2017-01-05 23:28:00   226  SCEL   \n",
       "\n",
       "  Des-O Emp-O  DIA  MES   AÑO     DIANOM TIPOVUELO              OPERA  \\\n",
       "0  KMIA   AAL    1    1  2017    Domingo         I  American Airlines   \n",
       "1  KMIA   AAL    2    1  2017      Lunes         I  American Airlines   \n",
       "2  KMIA   AAL    3    1  2017     Martes         I  American Airlines   \n",
       "3  KMIA   AAL    4    1  2017  Miercoles         I  American Airlines   \n",
       "4  KMIA   AAL    5    1  2017     Jueves         I  American Airlines   \n",
       "\n",
       "   SIGLAORI SIGLADES  \n",
       "0  Santiago    Miami  \n",
       "1  Santiago    Miami  \n",
       "2  Santiago    Miami  \n",
       "3  Santiago    Miami  \n",
       "4  Santiago    Miami  "
      ]
     },
     "execution_count": 2,
     "metadata": {},
     "output_type": "execute_result"
    }
   ],
   "source": [
    "# Cargar datos del .csv\n",
    "original_data = pd.read_csv(\"dataset_SCL.csv\",\n",
    "                parse_dates=['Fecha-I', 'Fecha-O'],\n",
    "                dtype = {                \n",
    "                'Vlo-I': 'string',\n",
    "                'Ori-I' : 'string' ,\n",
    "                'Des-I' : 'string' ,\n",
    "                'Emp-I': 'string',\n",
    "                'Vlo-O': 'string',\n",
    "                'Ori-O': 'string', \n",
    "                'Des-O': 'string',\n",
    "                'Emp-O': 'string', \n",
    "                'DIA': 'int64', \n",
    "                'MES': 'int64', \n",
    "                'AÑO': 'int64', \n",
    "                'DIANOM': 'string', \n",
    "                'TIPOVUELO': 'string',\n",
    "                'OPERA': 'string', \n",
    "                'SIGLAORI': 'string', \n",
    "                'SIGLADES': 'string'\n",
    "                }\n",
    "                )\n",
    "original_data.head(5)"
   ]
  },
  {
   "attachments": {},
   "cell_type": "markdown",
   "metadata": {},
   "source": [
    "- Fecha-I: Scheduled date and time of the flight.\n",
    "- Vlo-I : Scheduled flight number.\n",
    "- Ori-I : Programmed origin city code.\n",
    "- Des-I : Programmed destination city code.\n",
    "- Emp-I : Scheduled flight airline code.\n",
    "- Fecha-O : Date and time of flight operation.\n",
    "- Vlo-O : Flight operation number of the flight.\n",
    "- Ori-O : Operation origin city code\n",
    "- Des-O : Operation destination city code.\n",
    "- Emp-O : Airline code of the operated flight.\n",
    "- DIA: Day of the month of flight operation.\n",
    "- MES : Number of the month of operation of the flight.\n",
    "- AÑO : Year of flight operation.\n",
    "- DIANOM : Day of the week of flight operation.\n",
    "- TIPOVUELO : Type of flight, I =International, N =National.\n",
    "- OPERA : Name of the airline that operates.\n",
    "- SIGLAORI: Name city of origin.\n",
    "- SIGLADES: Destination city name."
   ]
  },
  {
   "attachments": {},
   "cell_type": "markdown",
   "metadata": {},
   "source": [
    "# Procesamiento de datos: Verificación de nulos y consistencia en el formato de variables"
   ]
  },
  {
   "cell_type": "code",
   "execution_count": 3,
   "metadata": {},
   "outputs": [
    {
     "name": "stdout",
     "output_type": "stream",
     "text": [
      "Cantidad de filas totales: 68206\n",
      "Cantidad de valores nulos por columna: Fecha-I      0\n",
      "Vlo-I        0\n",
      "Ori-I        0\n",
      "Des-I        0\n",
      "Emp-I        0\n",
      "Fecha-O      0\n",
      "Vlo-O        1\n",
      "Ori-O        0\n",
      "Des-O        0\n",
      "Emp-O        0\n",
      "DIA          0\n",
      "MES          0\n",
      "AÑO          0\n",
      "DIANOM       0\n",
      "TIPOVUELO    0\n",
      "OPERA        0\n",
      "SIGLAORI     0\n",
      "SIGLADES     0\n",
      "dtype: int64\n",
      "Cantidad de filas totales del dataframe filtrado: 68205\n",
      "Cantidad de filas nulas en dataframe filtrado: 0\n"
     ]
    }
   ],
   "source": [
    "#Cantidad total de filas\n",
    "print(f\"Cantidad de filas totales: {len(original_data)}\")\n",
    "\n",
    "#Revisar cantidad de nulos por columna\n",
    "print(f\"Cantidad de valores nulos por columna: {original_data.isna().sum()}\")\n",
    "\n",
    "#Existe solo 1 fila con un valor nulo, debido a que es solo una no hay problema si se elimina\n",
    "\n",
    "not_null_data = original_data.dropna().copy()\n",
    "\n",
    "print(f\"Cantidad de filas totales del dataframe filtrado: {len(not_null_data)}\")\n",
    "print(f\"Cantidad de filas nulas en dataframe filtrado: {not_null_data.isna().sum().sum()}\")"
   ]
  },
  {
   "attachments": {},
   "cell_type": "markdown",
   "metadata": {},
   "source": [
    "## Valores unicos por columna:\n",
    "- Se puede observar que la tanto Vlo-I, DES-I y EMP-I no tienen la misma cantidad de valores unicos que sus contrapartes de operación, hay que revisar si esto se debe a irregularidades de formato en dichas variables"
   ]
  },
  {
   "cell_type": "code",
   "execution_count": 4,
   "metadata": {},
   "outputs": [
    {
     "name": "stdout",
     "output_type": "stream",
     "text": [
      "Cantidad de valores unicos por columna\n"
     ]
    },
    {
     "data": {
      "text/plain": [
       "Fecha-I      53252\n",
       "Vlo-I          584\n",
       "Ori-I            1\n",
       "Des-I           64\n",
       "Emp-I           30\n",
       "Fecha-O      62774\n",
       "Vlo-O          861\n",
       "Ori-O            1\n",
       "Des-O           63\n",
       "Emp-O           32\n",
       "DIA             31\n",
       "MES             12\n",
       "AÑO              2\n",
       "DIANOM           7\n",
       "TIPOVUELO        2\n",
       "OPERA           23\n",
       "SIGLAORI         1\n",
       "SIGLADES        62\n",
       "dtype: int64"
      ]
     },
     "execution_count": 4,
     "metadata": {},
     "output_type": "execute_result"
    }
   ],
   "source": [
    "#Cantidad de valores unicos por columna \n",
    "print(\"Cantidad de valores unicos por columna\")\n",
    "not_null_data.nunique(axis=0)"
   ]
  },
  {
   "attachments": {},
   "cell_type": "markdown",
   "metadata": {},
   "source": [
    "## Código de vuelo: \n",
    "- Existen 584 vuelos únicos en el campo de vuelos programados, mientras que en vuelos operados tenemos 861 valores únicos.\n",
    "- Mirando algunos casos nos podemos dar cuenta que hay ID de vuelos en formato \"float\", como por ejemplo '1.0' o '10.0'. Asumiré que estos vuelos son lo mismo que 1 o 10, aplicaré una función para normalizar dichos valores en enteros."
   ]
  },
  {
   "cell_type": "code",
   "execution_count": 5,
   "metadata": {},
   "outputs": [
    {
     "name": "stdout",
     "output_type": "stream",
     "text": [
      "ID unicos de los vuelos programados:  <StringArray>\n",
      "[   '1',   '10',  '100', '1003', '1004', '1005', '1011',  '102', '1025',\n",
      " '1031',\n",
      " ...\n",
      "   '98', '9851',  '986',  '988', '989P',   '99',  '991',  '993', '9955',\n",
      " '9956']\n",
      "Length: 584, dtype: string\n",
      "ID unicos de los vuelos realizados: <StringArray>\n",
      "[   '1',  '1.0',   '10', '10.0',  '100', '1001', '1003', '1004', '1005',\n",
      " '1011',\n",
      " ...\n",
      "  '986', '9860',  '988',  '989',   '99', '99.0',  '991',  '993', '9955',\n",
      " '9956']\n",
      "Length: 861, dtype: string\n"
     ]
    }
   ],
   "source": [
    "#Vuelos programados unicos\n",
    "print(f\"ID unicos de los vuelos programados:  {not_null_data['Vlo-I'].sort_values().values.unique()}\")\n",
    "\n",
    "#Vuelos operados unicos\n",
    "print(f\"ID unicos de los vuelos realizados: {not_null_data['Vlo-O'].sort_values().values.unique()}\")\n"
   ]
  },
  {
   "cell_type": "code",
   "execution_count": 6,
   "metadata": {},
   "outputs": [
    {
     "name": "stdout",
     "output_type": "stream",
     "text": [
      "Valores únicos en Vlo-I: 584\n",
      "Valores únicos en Vlo-O: 608\n",
      "\n",
      " Para el caso de Vlo-O habian 253 casos de valores enteros ingresados como floats, mientras que en Vlo-I ninguno.\n"
     ]
    },
    {
     "name": "stderr",
     "output_type": "stream",
     "text": [
      "C:\\Users\\crist\\AppData\\Local\\Temp\\ipykernel_10848\\1949629676.py:2: DeprecationWarning: In a future version, `df.iloc[:, i] = newvals` will attempt to set the values inplace instead of always setting a new array. To retain the old behavior, use either `df[df.columns[i]] = newvals` or, if columns are non-unique, `df.isetitem(i, newvals)`\n",
      "  not_null_data.loc[:,not_null_data.columns=='Vlo-I'] = not_null_data['Vlo-I'].str.split('.').str[0].values\n",
      "C:\\Users\\crist\\AppData\\Local\\Temp\\ipykernel_10848\\1949629676.py:3: DeprecationWarning: In a future version, `df.iloc[:, i] = newvals` will attempt to set the values inplace instead of always setting a new array. To retain the old behavior, use either `df[df.columns[i]] = newvals` or, if columns are non-unique, `df.isetitem(i, newvals)`\n",
      "  not_null_data.loc[:,not_null_data.columns=='Vlo-O'] = not_null_data['Vlo-O'].str.split('.').str[0].values\n"
     ]
    }
   ],
   "source": [
    "#Transformación de valores ingresados como float a int.\n",
    "not_null_data.loc[:,not_null_data.columns=='Vlo-I'] = not_null_data['Vlo-I'].str.split('.').str[0].values\n",
    "not_null_data.loc[:,not_null_data.columns=='Vlo-O'] = not_null_data['Vlo-O'].str.split('.').str[0].values\n",
    "\n",
    "print(f'''Valores únicos en Vlo-I: {not_null_data['Vlo-I'].nunique()}''')\n",
    "print(f'''Valores únicos en Vlo-O: {not_null_data['Vlo-O'].nunique()}''')\n",
    "print(\"\\n Para el caso de Vlo-O habian 253 casos de valores enteros ingresados como floats, mientras que en Vlo-I ninguno.\")"
   ]
  },
  {
   "attachments": {},
   "cell_type": "markdown",
   "metadata": {},
   "source": [
    "## Código de destino\n",
    "\n",
    "- Existen 64 destinos únicos programados mientras que en operacion hay 63, no se observa algún problema ya que pareciera estar todo en el mismo formato."
   ]
  },
  {
   "cell_type": "code",
   "execution_count": 7,
   "metadata": {},
   "outputs": [
    {
     "name": "stdout",
     "output_type": "stream",
     "text": [
      "ID unicos de destinos programados:  <StringArray>\n",
      "['CYYZ', 'EGLL', 'EGYP', 'KATL', 'KDFW', 'KIAH', 'KJFK', 'KLAX', 'KMCO',\n",
      " 'KMIA', 'LEMD', 'LFPG', 'LIRF', 'MDPC', 'MMMX', 'MMUN', 'MPTO', 'NZAA',\n",
      " 'SAAR', 'SABE', 'SACO', 'SAEZ', 'SAME', 'SANT', 'SANU', 'SARI', 'SAWH',\n",
      " 'SAZN', 'SAZS', 'SBCT', 'SBFI', 'SBFL', 'SBGL', 'SBGR', 'SCAR', 'SCAT',\n",
      " 'SCBA', 'SCCF', 'SCCI', 'SCDA', 'SCFA', 'SCIE', 'SCIP', 'SCJO', 'SCNT',\n",
      " 'SCPQ', 'SCQP', 'SCSE', 'SCTE', 'SCVD', 'SEGU', 'SEQM', 'SEQU', 'SGAS',\n",
      " 'SKBO', 'SLCB', 'SLLP', 'SLVR', 'SPJC', 'SPSO', 'SULS', 'SUMU', 'YMML',\n",
      " 'YSSY']\n",
      "Length: 64, dtype: string\n",
      "ID unicos de destinos realizados: <StringArray>\n",
      "['CYYZ', 'EGLL', 'EGYP', 'KATL', 'KDFW', 'KIAD', 'KIAH', 'KJFK', 'KLAX',\n",
      " 'KMCO', 'KMIA', 'LEMD', 'LFPG', 'LIRF', 'MDPC', 'MMMX', 'MMUN', 'MPTO',\n",
      " 'NZAA', 'SAAR', 'SABE', 'SACO', 'SAEZ', 'SAME', 'SANT', 'SANU', 'SAWH',\n",
      " 'SAZN', 'SAZS', 'SBCT', 'SBFI', 'SBFL', 'SBGL', 'SBGR', 'SCAR', 'SCAT',\n",
      " 'SCBA', 'SCCF', 'SCCI', 'SCDA', 'SCFA', 'SCIE', 'SCIP', 'SCJO', 'SCNT',\n",
      " 'SCPQ', 'SCQP', 'SCSE', 'SCTE', 'SCVD', 'SEGU', 'SEQM', 'SGAS', 'SKBO',\n",
      " 'SLCB', 'SLLP', 'SLVR', 'SPJC', 'SPSO', 'SULS', 'SUMU', 'YMML', 'YSSY']\n",
      "Length: 63, dtype: string\n"
     ]
    }
   ],
   "source": [
    "print(f\"ID unicos de destinos programados:  {not_null_data['Des-I'].sort_values().values.unique()}\")\n",
    "\n",
    "print(f\"ID unicos de destinos realizados: {not_null_data['Des-O'].sort_values().values.unique()}\")"
   ]
  },
  {
   "attachments": {},
   "cell_type": "markdown",
   "metadata": {},
   "source": [
    "## Código de aerolinea:\n",
    "- Existen 30 aerolineas distintas en el campo de programadas mientras que en las de operacion 32, revisando nos damos cuenta que efectivamente hay aerolineas que no estan en ambas listas, de todas formas siguen el mismo formato de 3 caracteres por lo que asumire que esto está bien."
   ]
  },
  {
   "cell_type": "code",
   "execution_count": 8,
   "metadata": {},
   "outputs": [
    {
     "name": "stdout",
     "output_type": "stream",
     "text": [
      "ID unicos de los vuelos programados:  <StringArray>\n",
      "['AAL', 'ACA', 'AFR', 'AMX', 'ARG', 'AUT', 'AVA', 'AZA', 'BAW', 'CMP', 'DAL',\n",
      " 'DSM', 'GLO', 'IBE', 'JAT', 'JMR', 'KLM', 'LAN', 'LAP', 'LAW', 'LNE', 'LPE',\n",
      " 'LRC', 'LXP', 'ONE', 'PUE', 'QFU', 'SKU', 'TAM', 'UAL']\n",
      "Length: 30, dtype: string\n",
      "ID unicos de los vuelos realizados: <StringArray>\n",
      "['48O', '56R', 'AAL', 'ACA', 'AFR', 'AMX', 'ARG', 'AUT', 'AVA', 'AZA', 'BAW',\n",
      " 'CMP', 'DAL', 'DSM', 'GLO', 'IBE', 'JAT', 'JMR', 'KLM', 'LAN', 'LAP', 'LNE',\n",
      " 'LPE', 'LRC', 'LXP', 'ONE', 'PUE', 'QFA', 'SKU', 'TAM', 'TPU', 'UAL']\n",
      "Length: 32, dtype: string\n"
     ]
    }
   ],
   "source": [
    "print(f\"ID unicos de los vuelos programados:  {not_null_data['Emp-I'].sort_values().values.unique()}\")\n",
    "\n",
    "print(f\"ID unicos de los vuelos realizados: {not_null_data['Emp-O'].sort_values().values.unique()}\")"
   ]
  },
  {
   "attachments": {},
   "cell_type": "markdown",
   "metadata": {},
   "source": [
    "## Revisión del resto de variables: Observando los valores únicos en cada variable no se encontró ninguna irregularidad.\n",
    "- DIA: ok\n",
    "- MES: ok\n",
    "- AÑO: ok\n",
    "- DIANOM: ok\n",
    "- TIPOVUELO: ok\n",
    "- OPERA: ok\n",
    "- SIGLAORI: ok, todos los vuelos salen de Santiago\n",
    "- SIGLADES: ok"
   ]
  },
  {
   "cell_type": "code",
   "execution_count": 9,
   "metadata": {},
   "outputs": [
    {
     "name": "stdout",
     "output_type": "stream",
     "text": [
      "\n",
      "Valores únicos para día: \n",
      " [ 1  2  3  4  5  6  7  8  9 10 11 12 13 14 15 16 17 18 19 20 21 22 23 24\n",
      " 25 26 27 28 29 30 31]\n",
      "\n",
      "Valores únicos para mes: \n",
      " [ 1  2  3  4  5  6  7  8  9 10 11 12]\n",
      "\n",
      "Valores únicos para año: \n",
      " [2017 2018]\n",
      "\n",
      "Valores únicos para día nominal: \n",
      " <StringArray>\n",
      "['Domingo', 'Jueves', 'Lunes', 'Martes', 'Miercoles', 'Sabado', 'Viernes']\n",
      "Length: 7, dtype: string\n",
      "\n",
      "Valores únicos para tipo vuelo: \n",
      " <StringArray>\n",
      "['I', 'N']\n",
      "Length: 2, dtype: string\n",
      "\n",
      "Valores únicos aerolinea: \n",
      " <StringArray>\n",
      "[   'Aerolineas Argentinas',               'Aeromexico',\n",
      "               'Air Canada',               'Air France',\n",
      "                 'Alitalia',        'American Airlines',\n",
      "                  'Austral',                  'Avianca',\n",
      "          'British Airways',                 'Copa Air',\n",
      "                'Delta Air',                'Gol Trans',\n",
      "              'Grupo LATAM',                   'Iberia',\n",
      "             'JetSmart SPA',                   'K.L.M.',\n",
      "                    'Lacsa',     'Latin American Wings',\n",
      "   'Oceanair Linhas Aereas', 'Plus Ultra Lineas Aereas',\n",
      "           'Qantas Airways',              'Sky Airline',\n",
      "          'United Airlines']\n",
      "Length: 23, dtype: string\n",
      "\n",
      "Valores únicos origen: \n",
      " <StringArray>\n",
      "['Santiago']\n",
      "Length: 1, dtype: string\n",
      "\n",
      "Valores únicos destino: \n",
      " <StringArray>\n",
      "[     'Antofagasta',            'Arica',         'Asuncion',\n",
      "          'Atlanta',    'Auckland N.Z.',        'Balmaceda',\n",
      "        'Bariloche',           'Bogota',     'Buenos Aires',\n",
      "           'Calama',           'Cancun',  'Castro (Chiloe)',\n",
      " 'Cataratas Iguacu', 'Ciudad de Mexico', 'Ciudad de Panama',\n",
      "       'Cochabamba',       'Concepcion',          'Copiapo',\n",
      "          'Cordoba',   'Curitiba, Bra.',           'Dallas',\n",
      "    'Florianapolis',        'Guayaquil',          'Houston',\n",
      "          'Iquique',   'Isla de Pascua',           'La Paz',\n",
      "        'La Serena',             'Lima',          'Londres',\n",
      "      'Los Angeles',           'Madrid',        'Melbourne',\n",
      "          'Mendoza',            'Miami',       'Montevideo',\n",
      "          'Neuquen',       'Nueva York',          'Orlando',\n",
      "           'Osorno',            'Paris',      'Pisco, Peru',\n",
      "     'Puerto Montt',   'Puerto Natales',   'Puerto Stanley',\n",
      "     'Punta Arenas',       'Punta Cana',   'Punta del Este',\n",
      "            'Quito',   'Rio de Janeiro',             'Roma',\n",
      "          'Rosario',   'San Juan, Arg.',       'Santa Cruz',\n",
      "        'Sao Paulo',           'Sydney',           'Temuco',\n",
      "          'Toronto',          'Tucuman',           'Ushuia',\n",
      "         'Valdivia',       'Washington']\n",
      "Length: 62, dtype: string\n"
     ]
    }
   ],
   "source": [
    "print(f\"\"\"\\nValores únicos para día: \\n {not_null_data[\"DIA\"].sort_values().unique()}\"\"\")\n",
    "print(f\"\"\"\\nValores únicos para mes: \\n {not_null_data[\"MES\"].sort_values().unique()}\"\"\")\n",
    "print(f\"\"\"\\nValores únicos para año: \\n {not_null_data[\"AÑO\"].sort_values().unique()}\"\"\")\n",
    "print(f\"\"\"\\nValores únicos para día nominal: \\n {not_null_data[\"DIANOM\"].sort_values().unique()}\"\"\")\n",
    "print(f\"\"\"\\nValores únicos para tipo vuelo: \\n {not_null_data[\"TIPOVUELO\"].sort_values().unique()}\"\"\")\n",
    "print(f\"\"\"\\nValores únicos aerolinea: \\n {not_null_data[\"OPERA\"].sort_values().unique()}\"\"\")\n",
    "print(f\"\"\"\\nValores únicos origen: \\n {not_null_data[\"SIGLAORI\"].sort_values().unique()}\"\"\")\n",
    "print(f\"\"\"\\nValores únicos destino: \\n {not_null_data[\"SIGLADES\"].sort_values().unique()}\"\"\")"
   ]
  },
  {
   "attachments": {},
   "cell_type": "markdown",
   "metadata": {},
   "source": [
    "# Creación de variables solicitadas:\n",
    "- high_season : 1 if Date-I is between Dec-15 and Mar-3, or Jul-15 and Jul-31, or Sep-11 and Sep-30, 0 otherwise.\n",
    "- min_diff : difference in minutes between Date-O and Date-I .\n",
    "- delay_15 : 1 if min_diff > 15, 0 if not.\n",
    "- period_day : morning (between 5:00 and 11:59), afternoon (between 12:00 and 18:59) and night (between 19:00 and 4:59), based onDate-I.\n"
   ]
  },
  {
   "cell_type": "code",
   "execution_count": 10,
   "metadata": {},
   "outputs": [],
   "source": [
    "# Una vez revisada la integridad de los datos se crea un nuevo dataframe con los datos limpios.\n",
    "clean_data = not_null_data.copy()"
   ]
  }
 ],
 "metadata": {
  "kernelspec": {
   "display_name": "venv",
   "language": "python",
   "name": "python3"
  },
  "language_info": {
   "codemirror_mode": {
    "name": "ipython",
    "version": 3
   },
   "file_extension": ".py",
   "mimetype": "text/x-python",
   "name": "python",
   "nbconvert_exporter": "python",
   "pygments_lexer": "ipython3",
   "version": "3.9.0"
  },
  "orig_nbformat": 4
 },
 "nbformat": 4,
 "nbformat_minor": 2
}
